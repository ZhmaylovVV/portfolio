{
 "cells": [
  {
   "cell_type": "markdown",
   "metadata": {},
   "source": [
    "## Приняте решения по результатам А/В теста"
   ]
  },
  {
   "cell_type": "markdown",
   "metadata": {},
   "source": [
    "#### Анализ скидок для сервисов \"Жилая недвижимость\"\n",
    "Команда занимается сервисами для владельцев жилой недвижимости и последний год продает клининговые услуги по модели подписки (на месяц и на год). Цены - 200 и 1000 руб. соответственно.\\\n",
    "Решили посмотреть, как скидки влияют на аудиторию. Поделили всех неплативших пользователей, которые заходили в период скидок, на группы А и В. Группе А не давали скидок, а группе В дали скидку 30% на любую из подписок.\\\n",
    "\\\n",
    "Тест проводили с 2019-08-05 до 2019-08-11 включительно, ID теста — 127.\\\n",
    "\\\n",
    "Для подведения итогов А/В-тестирования нужно рассчитать, насколько в группах А и В различаются:\n",
    "- конверсия (отношение числа покупателей к общему числу пользователей в группе)\n",
    "- средний чек\n",
    "- ARPU пользователей (avrage revenue per user - средний доход с одного пользователя)"
   ]
  },
  {
   "cell_type": "markdown",
   "metadata": {},
   "source": [
    "#### Оглавление\n",
    "* [1) Загрузить и ознакомиться с данными](#load)\n",
    "* [2) Проверка статистических гипотез о разности параметров в группах A и B](#hypothesis)\n",
    "    *  [2.1) Конверсия](#convertion)\n",
    "    *  [2.2) Средний чек](#avg_bill)\n",
    "    *  [2.3) ARPU](#arpu)\n",
    "* [3) Доверительные интервалы](#ci)\n",
    "* [4) Отчёт](#sum)\n",
    "* [5) Вывод](#fin)"
   ]
  },
  {
   "cell_type": "markdown",
   "metadata": {},
   "source": [
    "#### <u>1) Загрузка и ознакомление с данными<a id=\"load\"></a>"
   ]
  },
  {
   "cell_type": "code",
   "execution_count": 1,
   "metadata": {},
   "outputs": [],
   "source": [
    "import pandas as pd\n",
    "import numpy as np\n",
    "import matplotlib.pyplot as plt\n",
    "from scipy import stats\n",
    "from statsmodels.stats.proportion import proportion_confint\n",
    "from statsmodels.stats.weightstats import ztest\n",
    "from statsmodels.stats import weightstats"
   ]
  },
  {
   "cell_type": "markdown",
   "metadata": {},
   "source": [
    "Таблица ab_test_groups"
   ]
  },
  {
   "cell_type": "code",
   "execution_count": 2,
   "metadata": {},
   "outputs": [
    {
     "data": {
      "text/html": [
       "<div>\n",
       "<style scoped>\n",
       "    .dataframe tbody tr th:only-of-type {\n",
       "        vertical-align: middle;\n",
       "    }\n",
       "\n",
       "    .dataframe tbody tr th {\n",
       "        vertical-align: top;\n",
       "    }\n",
       "\n",
       "    .dataframe thead th {\n",
       "        text-align: right;\n",
       "    }\n",
       "</style>\n",
       "<table border=\"1\" class=\"dataframe\">\n",
       "  <thead>\n",
       "    <tr style=\"text-align: right;\">\n",
       "      <th></th>\n",
       "      <th>user_id</th>\n",
       "      <th>grp</th>\n",
       "      <th>ab_test_id</th>\n",
       "    </tr>\n",
       "  </thead>\n",
       "  <tbody>\n",
       "    <tr>\n",
       "      <th>0</th>\n",
       "      <td>1</td>\n",
       "      <td>B</td>\n",
       "      <td>132</td>\n",
       "    </tr>\n",
       "    <tr>\n",
       "      <th>1</th>\n",
       "      <td>2</td>\n",
       "      <td>A</td>\n",
       "      <td>132</td>\n",
       "    </tr>\n",
       "    <tr>\n",
       "      <th>2</th>\n",
       "      <td>3</td>\n",
       "      <td>B</td>\n",
       "      <td>132</td>\n",
       "    </tr>\n",
       "    <tr>\n",
       "      <th>3</th>\n",
       "      <td>4</td>\n",
       "      <td>A</td>\n",
       "      <td>132</td>\n",
       "    </tr>\n",
       "    <tr>\n",
       "      <th>4</th>\n",
       "      <td>5</td>\n",
       "      <td>B</td>\n",
       "      <td>132</td>\n",
       "    </tr>\n",
       "  </tbody>\n",
       "</table>\n",
       "</div>"
      ],
      "text/plain": [
       "   user_id grp  ab_test_id\n",
       "0        1   B         132\n",
       "1        2   A         132\n",
       "2        3   B         132\n",
       "3        4   A         132\n",
       "4        5   B         132"
      ]
     },
     "execution_count": 2,
     "metadata": {},
     "output_type": "execute_result"
    }
   ],
   "source": [
    "ab_test_groups = pd.read_csv('ab_test_groups.csv')\n",
    "ab_test_groups.head()"
   ]
  },
  {
   "cell_type": "code",
   "execution_count": 3,
   "metadata": {},
   "outputs": [],
   "source": [
    "# Выберем только тест с ID 127\n",
    "ab_test_groups = ab_test_groups.loc[ab_test_groups.ab_test_id == 127]"
   ]
  },
  {
   "cell_type": "markdown",
   "metadata": {},
   "source": [
    "Таблица payments"
   ]
  },
  {
   "cell_type": "code",
   "execution_count": 19,
   "metadata": {},
   "outputs": [
    {
     "data": {
      "text/html": [
       "<div>\n",
       "<style scoped>\n",
       "    .dataframe tbody tr th:only-of-type {\n",
       "        vertical-align: middle;\n",
       "    }\n",
       "\n",
       "    .dataframe tbody tr th {\n",
       "        vertical-align: top;\n",
       "    }\n",
       "\n",
       "    .dataframe thead th {\n",
       "        text-align: right;\n",
       "    }\n",
       "</style>\n",
       "<table border=\"1\" class=\"dataframe\">\n",
       "  <thead>\n",
       "    <tr style=\"text-align: right;\">\n",
       "      <th></th>\n",
       "      <th>payment_id</th>\n",
       "      <th>user_id</th>\n",
       "      <th>price</th>\n",
       "      <th>created_at</th>\n",
       "      <th>tariff</th>\n",
       "    </tr>\n",
       "  </thead>\n",
       "  <tbody>\n",
       "    <tr>\n",
       "      <th>0</th>\n",
       "      <td>1</td>\n",
       "      <td>77831</td>\n",
       "      <td>200.0</td>\n",
       "      <td>2019-08-05 00:00:54</td>\n",
       "      <td>month</td>\n",
       "    </tr>\n",
       "    <tr>\n",
       "      <th>1</th>\n",
       "      <td>2</td>\n",
       "      <td>84576</td>\n",
       "      <td>200.0</td>\n",
       "      <td>2019-08-05 00:01:05</td>\n",
       "      <td>month</td>\n",
       "    </tr>\n",
       "    <tr>\n",
       "      <th>2</th>\n",
       "      <td>3</td>\n",
       "      <td>40981</td>\n",
       "      <td>140.0</td>\n",
       "      <td>2019-08-05 00:03:47</td>\n",
       "      <td>month_30off</td>\n",
       "    </tr>\n",
       "    <tr>\n",
       "      <th>3</th>\n",
       "      <td>4</td>\n",
       "      <td>130565</td>\n",
       "      <td>140.0</td>\n",
       "      <td>2019-08-05 00:09:33</td>\n",
       "      <td>month_30off</td>\n",
       "    </tr>\n",
       "    <tr>\n",
       "      <th>4</th>\n",
       "      <td>5</td>\n",
       "      <td>34758</td>\n",
       "      <td>700.0</td>\n",
       "      <td>2019-08-05 00:12:16</td>\n",
       "      <td>year_30off</td>\n",
       "    </tr>\n",
       "  </tbody>\n",
       "</table>\n",
       "</div>"
      ],
      "text/plain": [
       "   payment_id  user_id  price           created_at       tariff\n",
       "0           1    77831  200.0  2019-08-05 00:00:54        month\n",
       "1           2    84576  200.0  2019-08-05 00:01:05        month\n",
       "2           3    40981  140.0  2019-08-05 00:03:47  month_30off\n",
       "3           4   130565  140.0  2019-08-05 00:09:33  month_30off\n",
       "4           5    34758  700.0  2019-08-05 00:12:16   year_30off"
      ]
     },
     "execution_count": 19,
     "metadata": {},
     "output_type": "execute_result"
    }
   ],
   "source": [
    "payments = pd.read_csv('payments.csv')\n",
    "payments.head()"
   ]
  },
  {
   "cell_type": "code",
   "execution_count": 20,
   "metadata": {},
   "outputs": [
    {
     "data": {
      "text/html": [
       "<div>\n",
       "<style scoped>\n",
       "    .dataframe tbody tr th:only-of-type {\n",
       "        vertical-align: middle;\n",
       "    }\n",
       "\n",
       "    .dataframe tbody tr th {\n",
       "        vertical-align: top;\n",
       "    }\n",
       "\n",
       "    .dataframe thead th {\n",
       "        text-align: right;\n",
       "    }\n",
       "</style>\n",
       "<table border=\"1\" class=\"dataframe\">\n",
       "  <thead>\n",
       "    <tr style=\"text-align: right;\">\n",
       "      <th></th>\n",
       "      <th>user_id</th>\n",
       "      <th>price</th>\n",
       "    </tr>\n",
       "  </thead>\n",
       "  <tbody>\n",
       "    <tr>\n",
       "      <th>0</th>\n",
       "      <td>77831</td>\n",
       "      <td>200.0</td>\n",
       "    </tr>\n",
       "    <tr>\n",
       "      <th>1</th>\n",
       "      <td>84576</td>\n",
       "      <td>200.0</td>\n",
       "    </tr>\n",
       "    <tr>\n",
       "      <th>2</th>\n",
       "      <td>40981</td>\n",
       "      <td>140.0</td>\n",
       "    </tr>\n",
       "    <tr>\n",
       "      <th>3</th>\n",
       "      <td>130565</td>\n",
       "      <td>140.0</td>\n",
       "    </tr>\n",
       "    <tr>\n",
       "      <th>4</th>\n",
       "      <td>34758</td>\n",
       "      <td>700.0</td>\n",
       "    </tr>\n",
       "  </tbody>\n",
       "</table>\n",
       "</div>"
      ],
      "text/plain": [
       "   user_id  price\n",
       "0    77831  200.0\n",
       "1    84576  200.0\n",
       "2    40981  140.0\n",
       "3   130565  140.0\n",
       "4    34758  700.0"
      ]
     },
     "execution_count": 20,
     "metadata": {},
     "output_type": "execute_result"
    }
   ],
   "source": [
    "# Только за период 05.08.2019 - 11.08.2019\n",
    "payments = payments.loc[(payments.created_at >= '2019-08-05') & (payments.created_at < '2019-08-12'),\n",
    "            ['user_id', 'price']]\n",
    "payments.head()"
   ]
  },
  {
   "cell_type": "code",
   "execution_count": 21,
   "metadata": {},
   "outputs": [],
   "source": [
    "# У одного пользователя может быть несколько покупок - проведем агрегацию по пользователю\n",
    "payments = payments.groupby('user_id', as_index = False).agg({'price':'sum'})"
   ]
  },
  {
   "cell_type": "code",
   "execution_count": 22,
   "metadata": {},
   "outputs": [
    {
     "data": {
      "text/html": [
       "<div>\n",
       "<style scoped>\n",
       "    .dataframe tbody tr th:only-of-type {\n",
       "        vertical-align: middle;\n",
       "    }\n",
       "\n",
       "    .dataframe tbody tr th {\n",
       "        vertical-align: top;\n",
       "    }\n",
       "\n",
       "    .dataframe thead th {\n",
       "        text-align: right;\n",
       "    }\n",
       "</style>\n",
       "<table border=\"1\" class=\"dataframe\">\n",
       "  <thead>\n",
       "    <tr style=\"text-align: right;\">\n",
       "      <th></th>\n",
       "      <th>user_id</th>\n",
       "      <th>grp</th>\n",
       "      <th>ab_test_id</th>\n",
       "      <th>price</th>\n",
       "    </tr>\n",
       "  </thead>\n",
       "  <tbody>\n",
       "    <tr>\n",
       "      <th>0</th>\n",
       "      <td>1</td>\n",
       "      <td>B</td>\n",
       "      <td>127</td>\n",
       "      <td>140.0</td>\n",
       "    </tr>\n",
       "    <tr>\n",
       "      <th>1</th>\n",
       "      <td>2</td>\n",
       "      <td>B</td>\n",
       "      <td>127</td>\n",
       "      <td>NaN</td>\n",
       "    </tr>\n",
       "    <tr>\n",
       "      <th>2</th>\n",
       "      <td>3</td>\n",
       "      <td>B</td>\n",
       "      <td>127</td>\n",
       "      <td>NaN</td>\n",
       "    </tr>\n",
       "    <tr>\n",
       "      <th>3</th>\n",
       "      <td>4</td>\n",
       "      <td>B</td>\n",
       "      <td>127</td>\n",
       "      <td>NaN</td>\n",
       "    </tr>\n",
       "    <tr>\n",
       "      <th>4</th>\n",
       "      <td>5</td>\n",
       "      <td>A</td>\n",
       "      <td>127</td>\n",
       "      <td>NaN</td>\n",
       "    </tr>\n",
       "  </tbody>\n",
       "</table>\n",
       "</div>"
      ],
      "text/plain": [
       "   user_id grp  ab_test_id  price\n",
       "0        1   B         127  140.0\n",
       "1        2   B         127    NaN\n",
       "2        3   B         127    NaN\n",
       "3        4   B         127    NaN\n",
       "4        5   A         127    NaN"
      ]
     },
     "execution_count": 22,
     "metadata": {},
     "output_type": "execute_result"
    }
   ],
   "source": [
    "# Объединяем таблицы\n",
    "ab_data = ab_test_groups.merge(payments, on = 'user_id', how = 'left')\n",
    "ab_data.head()"
   ]
  },
  {
   "cell_type": "markdown",
   "metadata": {},
   "source": [
    "Теперь у нас есть информация ab_data о группе А/В-теста для каждого пользователя и о суммарной стоимости его покупок (NaN - пользователь ничего не купил)."
   ]
  },
  {
   "cell_type": "markdown",
   "metadata": {},
   "source": [
    "Объединим данные в одну таблицу, отражающую число пользователей, число покупателей, конверсию, средний чек, среднюю выручка на пользователя и дополнительная выручка группы B для обеих групп."
   ]
  },
  {
   "cell_type": "code",
   "execution_count": 64,
   "metadata": {},
   "outputs": [
    {
     "name": "stderr",
     "output_type": "stream",
     "text": [
      "C:\\Users\\user\\AppData\\Local\\Temp\\ipykernel_11280\\2042953329.py:14: FutureWarning: Setting an item of incompatible dtype is deprecated and will raise an error in a future version of pandas. Value '-' has dtype incompatible with float64, please explicitly cast to a compatible dtype first.\n",
      "  ab_summary.loc['A', 'add_rev'] = '-'\n"
     ]
    },
    {
     "data": {
      "text/html": [
       "<div>\n",
       "<style scoped>\n",
       "    .dataframe tbody tr th:only-of-type {\n",
       "        vertical-align: middle;\n",
       "    }\n",
       "\n",
       "    .dataframe tbody tr th {\n",
       "        vertical-align: top;\n",
       "    }\n",
       "\n",
       "    .dataframe thead th {\n",
       "        text-align: right;\n",
       "    }\n",
       "</style>\n",
       "<table border=\"1\" class=\"dataframe\">\n",
       "  <thead>\n",
       "    <tr style=\"text-align: right;\">\n",
       "      <th></th>\n",
       "      <th>users_count</th>\n",
       "      <th>UC, %</th>\n",
       "      <th>buyers_count</th>\n",
       "      <th>BC, %</th>\n",
       "      <th>conversion</th>\n",
       "      <th>C, %</th>\n",
       "      <th>avg_bill</th>\n",
       "      <th>AB, %</th>\n",
       "      <th>revenue</th>\n",
       "      <th>R, %</th>\n",
       "      <th>ARPU</th>\n",
       "      <th>A, %</th>\n",
       "      <th>add_rev</th>\n",
       "    </tr>\n",
       "    <tr>\n",
       "      <th>grp</th>\n",
       "      <th></th>\n",
       "      <th></th>\n",
       "      <th></th>\n",
       "      <th></th>\n",
       "      <th></th>\n",
       "      <th></th>\n",
       "      <th></th>\n",
       "      <th></th>\n",
       "      <th></th>\n",
       "      <th></th>\n",
       "      <th></th>\n",
       "      <th></th>\n",
       "      <th></th>\n",
       "    </tr>\n",
       "  </thead>\n",
       "  <tbody>\n",
       "    <tr>\n",
       "      <th>A</th>\n",
       "      <td>76605</td>\n",
       "      <td>-</td>\n",
       "      <td>4279</td>\n",
       "      <td>-</td>\n",
       "      <td>0.055858</td>\n",
       "      <td>-</td>\n",
       "      <td>396.120589</td>\n",
       "      <td>-</td>\n",
       "      <td>1695000.0</td>\n",
       "      <td>-</td>\n",
       "      <td>22.126493</td>\n",
       "      <td>-</td>\n",
       "      <td>-</td>\n",
       "    </tr>\n",
       "    <tr>\n",
       "      <th>B</th>\n",
       "      <td>76627</td>\n",
       "      <td>+0.0</td>\n",
       "      <td>9427</td>\n",
       "      <td>+120.3</td>\n",
       "      <td>0.123025</td>\n",
       "      <td>+120.2</td>\n",
       "      <td>348.804498</td>\n",
       "      <td>-13.6</td>\n",
       "      <td>3288180.0</td>\n",
       "      <td>+94.0</td>\n",
       "      <td>42.911506</td>\n",
       "      <td>+94.0</td>\n",
       "      <td>1592693.217153</td>\n",
       "    </tr>\n",
       "  </tbody>\n",
       "</table>\n",
       "</div>"
      ],
      "text/plain": [
       "     users_count UC, %  buyers_count   BC, %  conversion    C, %    avg_bill  \\\n",
       "grp                                                                            \n",
       "A          76605     -          4279       -    0.055858       -  396.120589   \n",
       "B          76627  +0.0          9427  +120.3    0.123025  +120.2  348.804498   \n",
       "\n",
       "     AB, %    revenue   R, %       ARPU   A, %         add_rev  \n",
       "grp                                                             \n",
       "A        -  1695000.0      -  22.126493      -               -  \n",
       "B    -13.6  3288180.0  +94.0  42.911506  +94.0  1592693.217153  "
      ]
     },
     "execution_count": 64,
     "metadata": {},
     "output_type": "execute_result"
    }
   ],
   "source": [
    "# Пользователи\n",
    "ab_summary = ab_data.groupby('grp').agg({'user_id':'count', 'price':'count'})\n",
    "# Покупатели\n",
    "ab_summary.rename(columns={'user_id':'users_count', 'price':'buyers_count'}, inplace = True)\n",
    "# Конверсия пользователей в покупатели\n",
    "ab_summary['conversion'] = ab_summary.buyers_count/ab_summary.users_count\n",
    "# Средниц чек\n",
    "ab_summary = ab_summary.merge(ab_data.groupby('grp').agg({'price':'mean'}).rename(columns = {'price':'avg_bill'}), left_index = True, right_index = True)\n",
    "# Выручка на одного пользователя (ARPU)\n",
    "ab_summary = ab_summary.merge(ab_data.groupby('grp').agg({'price':'sum'}).rename(columns = {'price':'revenue'}), left_index = True, right_index = True)\n",
    "ab_summary['ARPU'] = ab_summary.revenue/ab_summary.users_count\n",
    "# Дополнительная выручка группы B\n",
    "ab_summary['add_rev'] = ab_summary.users_count*(ab_summary.ARPU - ab_summary.loc['A', 'ARPU'])\n",
    "ab_summary.loc['A', 'add_rev'] = '-'\n",
    "\n",
    "# Прирост в %\n",
    "# Пользователи\n",
    "d = ab_summary.loc['B', 'users_count'] - ab_summary.loc['A', 'users_count']\n",
    "s = ab_summary.loc['A', 'users_count']\n",
    "ab_summary['UC, %'] = ['-', f'+{(d*100/s):.1f}']\n",
    "# Покупатели\n",
    "d = ab_summary.loc['B', 'buyers_count'] - ab_summary.loc['A', 'buyers_count']\n",
    "s = ab_summary.loc['A', 'buyers_count']\n",
    "ab_summary['BC, %'] = ['-', f'+{(d*100/s):.1f}']\n",
    "# Конверсия\n",
    "d = ab_summary.loc['B', 'conversion'] - ab_summary.loc['A', 'conversion']\n",
    "s = ab_summary.loc['A', 'conversion']\n",
    "ab_summary['C, %'] = ['-', f'+{(d*100/s):.1f}']\n",
    "# Средний чек\n",
    "d = ab_summary.loc['B', 'avg_bill'] - ab_summary.loc['A', 'avg_bill']\n",
    "s = ab_summary.loc['B', 'avg_bill']\n",
    "ab_summary['AB, %'] = ['-', f'{(d*100/s):.1f}']\n",
    "# Выручка\n",
    "d = ab_summary.loc['B', 'revenue'] - ab_summary.loc['A', 'revenue']\n",
    "s = ab_summary.loc['A', 'revenue']\n",
    "ab_summary['R, %'] = ['-', f'+{(d*100/s):.1f}']\n",
    "# ARPU\n",
    "ab_summary['A, %'] = ['-', f'+{(d*100/s):.1f}']\n",
    "\n",
    "ab_summary[['users_count', 'UC, %', 'buyers_count', 'BC, %', 'conversion', 'C, %', 'avg_bill', 'AB, %', 'revenue', 'R, %', 'ARPU', 'A, %', 'add_rev']]"
   ]
  },
  {
   "cell_type": "markdown",
   "metadata": {},
   "source": [
    "Средние значения для групп A и B – это всего лишь средние значения одной из выборок из генеральной совокупности для каждой группы и реальное распределение значений для каждой группы неизвестны. Таким образом, просто так сравнивать их нельзя. Необходимо проверить ститистическую значимость разницы этих показателей."
   ]
  },
  {
   "cell_type": "markdown",
   "metadata": {},
   "source": [
    "#### <u>2) Проверка статистических гипотез о разности параметров в группах A и B<a id=\"hypothesis\"></a>"
   ]
  },
  {
   "cell_type": "markdown",
   "metadata": {},
   "source": [
    "Алгоритм проверки статистических гипотез:\n",
    "1) Сформулировать статистические гипотезы H0 и H1;\n",
    "2) Задать уровень значимости $\\alpha$ (допустимая вероятность ошибки I-рода);\n",
    "3) Выбрать статистическоий критерий проверки;\n",
    "4) Выполнить проверку статистических гипотез с помощью статистического теста;"
   ]
  },
  {
   "cell_type": "markdown",
   "metadata": {},
   "source": [
    "<b>1)</b> <b>Статистическая гипотеза</b> - предположение о какой-либо характеристике генеральной совокупности, сделанное по выборочным данным (выборки из групп A и B). Статистические гипотезы выдвигаются, когда необходимо проверить, является ли наблюдаемое явление элементом случайности или результатом воздействия некоторых мероприятий.\n",
    "   - H0: Нулевая гипотеза - обычно указывает на отсутствие статистически значимой разницы в сравниваемых группах (т.е. разница в пределах случайности);\n",
    "   - H1: Альтернативная гипотеза - обычно утверждает, что различия есть;"
   ]
  },
  {
   "cell_type": "markdown",
   "metadata": {},
   "source": [
    "<b>2)</b> <b>Уровень значимости</b> $\\alpha$ - допустимая вероятность ошибки I-рода или вероятность попадения статистического критерия в критическую область. В качестве уровня значимости обычно выбирается 0.05 (5%) или 0.01 (1%).\\\n",
    " \\\n",
    " Ошибки I и II рода:\\\n",
    "  Проверка гипотез осуществляется с помощью статистических критериев. Поскольку H0 выдвигается на основе анализа ВЫБОРОЧНЫХ данных, мы не сможем гарантировать её истинность либо ложность даже после статистической проверки. Однако с помощью статистической проверки гипотез можно определить вероятность принятия ложного решения. Если вероятность последнего невелика, то можно считать, что применяемый критерий обеспечивает малый риск ошибки.\\\n",
    "  \\\n",
    "  Таким образом существует риск (пусть и небольшой) допустить ошибки двух типов:\n",
    "\n",
    " - Ошибка I-рода: <i>из-за неполноты выборочных данных или несовершенства статистического критерия</i> гипотеза H0 будет отвергнута, хотя на самом деле в генеральной совокупности она правильная. Вероятность допустить такую ошибку называют уровнем значимости и обозначают буквой $\\alpha$.\n",
    " \n",
    "  - Ошибка II-рода: <i>из-за неполноты выборочных данных (попалась неудачная выборка) или несовершенства статистического критерия</i> гипотеза H0 будет принята, но на самом деле  в генеральной совокупности она неправильная. Вероятность совершить эту ошибку обозначают буквой $\\beta$.\\\n",
    "  \\\n",
    "  При уменьшении вероятности $\\alpha$ (отвергнуть правильную гипотезу) растёт вероятность $\\beta$ (принять неверную гипотезу). Чем меньше $\\alpha$, тем меньше вероятность браковать проверяемую гипотезу, когда она верна, т.е. меньше вероятность совершить ошибку первого рода. Но при этом расширяется область допустимых значений и, значит, увеличивается вероятность совершения ошибки второго рода.\n",
    "\\\n",
    "  \\\n",
    "  Пример:\\\n",
    "  H0: конверсии групп A и B равны\\\n",
    "  Ошибка I-рода: из-за неполноты выборочных данных в результате опыта сделал вывод, что конверсии A и B различаются (т.е. H0 не верна), но на самом деле конверсии равны (т.е. H0 на самом деле верна).\n",
    "  "
   ]
  },
  {
   "cell_type": "markdown",
   "metadata": {},
   "source": [
    "<b>3)</b> Для проверки статистических гипотез применяются <b>статистические критерии</b>. Статистический критерий – это правило (формула), по которому определяется мера расхождения результатов выборочного наблюдения с высказанной гипотезой Н0. На рисунке представлена схема выбора статистического критерия."
   ]
  },
  {
   "cell_type": "markdown",
   "metadata": {},
   "source": [
    "<div align=\"center\"><img src=\"Выбор критерия.png\">"
   ]
  },
  {
   "cell_type": "markdown",
   "metadata": {},
   "source": [
    "4) <u>Выполнить проверку статистических гипотез"
   ]
  },
  {
   "cell_type": "markdown",
   "metadata": {},
   "source": [
    "1) Можно сравнить значение статистического критерия $K$ с критическим значением этого критерий $K_{крит, \\alpha}$  для заданного уровня значимости $\\alpha$ (содержится в готовых таблицах). Если $K > K_{крит, \\alpha}$, то H0 не отвергается  и наоборот. Но это не очень удобно, поэтому чаще используется способ c $p-value$.\n",
    "\n",
    "2) Можно сравнить p-value с заданным уровнем значимости $\\alpha$.\\\n",
    "<b>p-value</b> - вер-ть ошибки I-рода т.е. вероятность ошибочно отклоненить в действительности верную H0 <i>из-за неполноты выборочных данных или несовершенства статистического критерия</i>. Чем меньше p-value, тем увереннее можно отбросить H0.\\\n",
    "\\\n",
    "p-value – это площадь под графиком функции плотности распределения статистики критерия, расположенная левее / правее выборочного значения статистики критерия т.е. вероятность того, что статистика критерия Z примет более «экстремальные» значения в левом / правом хвосте критической области, чем рассчитанное по выборке выборочное значение z.\\\n",
    "\n",
    "<div align=\"center\"><img src=\"p-value.png\"></div>\n",
    "\n",
    "\\\n",
    "Если p-value < $\\alpha$, тогда H0 отвергается\\\n",
    "Если p-value > $\\alpha$, тогда H0 не отвергается, но и не принимается т.е. на данном этапе мы не обнаружили значимых различий."
   ]
  },
  {
   "cell_type": "markdown",
   "metadata": {},
   "source": [
    "<a id=\"convertion\"></a>\n",
    "#### <u>2.1) Конверсия</u>\n",
    "\n",
    "Рассчитаем значимость различия конверсии групп A и B."
   ]
  },
  {
   "cell_type": "markdown",
   "metadata": {},
   "source": [
    "<b>Постановка гипотезы</b>\n",
    "- H0: конверсия в группе А = конверсия в группе В\n",
    "- H1: конверсия в группе А < конверсия в группе В т.е уровень конверсии вырос \n",
    "\n",
    "<b>Наблюдения</b>\n",
    "- выборочная конверсия в группе А = 0.055858\n",
    "- выборочная конверсия в группе В = 0.123025\n",
    "\n",
    "Если гипотеза H0 верна, тогда разность выборочных конверсий распределена нормально (по ЦПТ при достаточно большом n выборки пропорция распределена нормально) с матожиданием равным нулю и известным стандартным отклонением. Конверсия — бинарная величина (пользователь либо купил, либо нет).\n",
    "Исходя из этого мы можем найти z-статистику и соответствующее p-value.\n",
    "\n",
    "В качестве уровня значимости альфа возьмем 0,05.\\\n",
    "p-value - вероятность того, что конверсии равны, хотя на самом деле это не так"
   ]
  },
  {
   "cell_type": "code",
   "execution_count": 10,
   "metadata": {},
   "outputs": [
    {
     "name": "stdout",
     "output_type": "stream",
     "text": [
      "z-статистика: -46.38627328408593\n",
      "p-value: 0.0\n"
     ]
    }
   ],
   "source": [
    "conversion_A = ab_data.loc[ab_data.grp == 'A', 'price'].apply(lambda x: 1 if pd.notnull(x) else 0)\n",
    "conversion_B = ab_data.loc[ab_data.grp == 'B', 'price'].apply(lambda x: 1 if pd.notnull(x) else 0)                                                            \n",
    "z, p = ztest(conversion_A, conversion_B)\n",
    "\n",
    "print('z-статистика:', z)\n",
    "print('p-value:', p)"
   ]
  },
  {
   "cell_type": "markdown",
   "metadata": {},
   "source": [
    "<b>Вывод о конверсии</b>\n",
    "\\\n",
    "p-value настолько мало, что это позволяет нам отвергнуть гипотезу H0 и соответственно говорить о фактическом улучшении конверсии"
   ]
  },
  {
   "cell_type": "markdown",
   "metadata": {},
   "source": [
    "#### <u>2.2) Средний чек</u><a id=\"avg_bill\"></a>\n",
    "Рассчитаем значимость различия средних чеков групп A и B."
   ]
  },
  {
   "cell_type": "markdown",
   "metadata": {},
   "source": [
    "У нас весьма небольшое количество цен на подписки, поэтому очевидно, что средний чек не будут распределены нормально. Визуализируем распределение средних чеков."
   ]
  },
  {
   "cell_type": "code",
   "execution_count": 11,
   "metadata": {},
   "outputs": [
    {
     "data": {
      "image/png": "[encoded data removed]",
      "text/plain": [
       "<Figure size 600x200 with 1 Axes>"
      ]
     },
     "metadata": {},
     "output_type": "display_data"
    }
   ],
   "source": [
    "fig = plt.figure(figsize=(6, 2))\n",
    "ax = fig.add_subplot()\n",
    "ab_data.loc[ab_data.grp == 'A', 'price'].dropna().hist()\n",
    "ax.set_xlabel('Чек, руб', fontsize=8)\n",
    "ax.set_ylabel('Количество пользователей', fontsize=8)\n",
    "ax.tick_params(labelsize=8)\n",
    "plt.show()"
   ]
  },
  {
   "cell_type": "markdown",
   "metadata": {},
   "source": [
    "Проверим распределение средних чеков на нормальность с помощью теста Шапиро-Вилка."
   ]
  },
  {
   "cell_type": "code",
   "execution_count": 12,
   "metadata": {},
   "outputs": [
    {
     "name": "stdout",
     "output_type": "stream",
     "text": [
      "w-статистика: 0.5343790347375128\n",
      "p-value: 0.0\n"
     ]
    }
   ],
   "source": [
    "w, p = stats.shapiro(ab_data.loc[ab_data.grp == 'A', 'price'].dropna())\n",
    "print('w-статистика:', w)\n",
    "print('p-value:', p.round(5))"
   ]
  },
  {
   "cell_type": "markdown",
   "metadata": {},
   "source": [
    "И визуальный анализ, и тест Шапиро-Вилка на нормальность говорят нам, что распределение не является нормальным."
   ]
  },
  {
   "cell_type": "markdown",
   "metadata": {},
   "source": [
    "Так как распределения признаков не бинарные (0-1) и не нормальные, нужно использовать для сравнения средних не только T-тест, но и непараметрический U-тест Манна-Уитни.\\\n",
    "\\\n",
    "U-тест сообщит нам, различаются ли сами распределения, а T-тест покажет, различаются ли средние этих распределений. При сравнении средних величин (например, ARPU) обычно важнее показатель p-значение для Т-теста: если он меньше 0,05, а p-значение теста Манна-Уитни больше 0,05, то это всё равно говорит о значимых различиях показателей."
   ]
  },
  {
   "cell_type": "markdown",
   "metadata": {},
   "source": [
    "#### Сравнение среднего чека\n",
    "\n",
    "<b>Постановка гипотезы</b>\n",
    "- H0: средний чек в группе А = средний чек в группе В\n",
    "- H1: средний чек в группе A > средний чек в группе B т.е средний чек в В упал \n",
    "\n",
    "<b>Наблюдения</b>\n",
    "- выборочное среднее чека в группе А = 396.12\n",
    "- выборочное среднее чека в группе В = 348.8\n",
    "- Нет оснований полагать, что истинные стандартные отклонения чека в A и B равны. \n",
    "\n",
    "Если гипотеза H0 верна, тогда разность выборочных средних чека распределена нормально с истинным матожиданием равным нулю и неизвестным нам истинным стандартным отклонением (по ЦПТ при достаточно большом n выборки ее выборочное среднее распределено нормально). \n",
    "Исходя из этого мы можем найти t-статистику и соответствующее p-value. Также дополнительно проводим U-тест.\n",
    "\n",
    "В качестве уровня значимости альфа возьмем 0,05. "
   ]
  },
  {
   "cell_type": "code",
   "execution_count": 13,
   "metadata": {},
   "outputs": [
    {
     "name": "stdout",
     "output_type": "stream",
     "text": [
      "U-статистика: 28984683.0 \t p-value: 0.0\n",
      "T-статистика: 7.94539553459362 \t p-value: 0.0\n"
     ]
    }
   ],
   "source": [
    "bills_A = ab_data.loc[ab_data.grp == 'A', 'price'].dropna(axis=0)\n",
    "bills_B = ab_data.loc[ab_data.grp == 'B', 'price'].dropna(axis=0)\n",
    "\n",
    "# alternative='greater' потому что альтернативная гипотеза H1 звучит как \"разность средних значений чеков А и В БОЛЬШЕ чем ноль\"\n",
    "u_bill = stats.mannwhitneyu(bills_A, bills_B, alternative='greater')\n",
    "\n",
    "# usevar='unequal' потому что нет оснований полагать, что истинные средние отклонения в А и В равны \n",
    "# alternative='larger' потому что альтернативная гипотеза H1 звучит как \"разность средних значений чеков А и В БОЛЬШЕ чем ноль\"\n",
    "t_bill = weightstats.ttest_ind(bills_A, bills_B, usevar='unequal', alternative='larger')\n",
    "\n",
    "print('U-статистика:', u_bill[0], '\\t', 'p-value:', u_bill[1])\n",
    "print('T-статистика:', t_bill[0], '\\t', 'p-value:', t_bill[1].round(5))"
   ]
  },
  {
   "cell_type": "markdown",
   "metadata": {},
   "source": [
    "<b>Вывод о среднем чеке</b>\\\n",
    "Оба теста показали очень маленькое p-value, гораздо меньшее чем 0.05, что говорит о том, что если бы истинные матожидания чеков в А и В были бы равны, то вероятность получить наши наблюдаемые выборочные значения среднего чека была бы очень сильно мала, поэтому мы отвергаем нулевую гипотезу о равенстве средних чеков в пользу альтернативной и считаем, что средний чек в А действительно значимо больше чем в В."
   ]
  },
  {
   "cell_type": "markdown",
   "metadata": {},
   "source": [
    "#### <u>2.3) ARPU</u><a id=\"arpu\"></a>\n",
    "Рассчитаем значимость различия средней выручки на пользователя групп A и B."
   ]
  },
  {
   "cell_type": "markdown",
   "metadata": {},
   "source": [
    "У нас весьма небольшое количество цен на подписки, поэтому очевидно, что средняя выручка на пользователя не будут распределена нормально. Визуализируем распределение средних чеков."
   ]
  },
  {
   "cell_type": "code",
   "execution_count": 14,
   "metadata": {},
   "outputs": [
    {
     "data": {
      "image/png": "[encoded data removed]",
      "text/plain": [
       "<Figure size 600x200 with 1 Axes>"
      ]
     },
     "metadata": {},
     "output_type": "display_data"
    }
   ],
   "source": [
    "fig = plt.figure(figsize=(6, 2))\n",
    "ax = fig.add_subplot()\n",
    "ab_data.loc[ab_data.grp == 'A', 'price'].fillna(0).hist()\n",
    "ax.set_xlabel('Выручка, руб', fontsize=8)\n",
    "ax.set_ylabel('Количество пользователей', fontsize=8)\n",
    "ax.tick_params(labelsize=8)\n",
    "plt.show()"
   ]
  },
  {
   "cell_type": "markdown",
   "metadata": {},
   "source": [
    "Проверим распределение средней выручки на человека на нормальность с помощью теста Шапиро-Вилка."
   ]
  },
  {
   "cell_type": "code",
   "execution_count": 15,
   "metadata": {},
   "outputs": [
    {
     "name": "stdout",
     "output_type": "stream",
     "text": [
      "w-статистика: 0.17147488625043594\n",
      "p-value: 0.0\n"
     ]
    },
    {
     "name": "stderr",
     "output_type": "stream",
     "text": [
      "c:\\Users\\user\\AppData\\Local\\Programs\\Python\\Python312\\Lib\\site-packages\\scipy\\stats\\_axis_nan_policy.py:573: UserWarning: scipy.stats.shapiro: For N > 5000, computed p-value may not be accurate. Current N is 76605.\n",
      "  res = hypotest_fun_out(*samples, **kwds)\n"
     ]
    }
   ],
   "source": [
    "w, p = stats.shapiro(ab_data.loc[ab_data.grp == 'A', 'price'].fillna(0))\n",
    "print('w-статистика:', w)\n",
    "print('p-value:', p.round(5))"
   ]
  },
  {
   "cell_type": "markdown",
   "metadata": {},
   "source": [
    "И визуальный анализ, и тест Шапиро-Вилка на нормальность говорят нам, что распределение не является нормальным."
   ]
  },
  {
   "cell_type": "markdown",
   "metadata": {},
   "source": [
    "Так как распределения признаков не бинарные (0-1) и не нормальные, нужно использовать для сравнения средних не только T-тест, но и непараметрический U-тест Манна-Уитни.\\\n",
    "\\\n",
    "U-тест сообщит нам, различаются ли сами распределения, а T-тест покажет, различаются ли средние этих распределений. При сравнении средних величин (например, ARPU) обычно важнее показатель p-значение для Т-теста: если он меньше 0,05, а p-значение теста Манна-Уитни больше 0,05, то это всё равно говорит о значимых различиях показателей."
   ]
  },
  {
   "cell_type": "markdown",
   "metadata": {},
   "source": [
    "#### Сравнение ARPU\n",
    "\n",
    "<b>Постановка гипотезы</b>\n",
    "- H0: ARPU в группе А = ARPU в группе В\n",
    "- H1: ARPU в группе A < ARPU в группе B т.е ARPU в В выросло\n",
    "\n",
    "<b>Наблюдения</b>\n",
    "- выборочное ARPU в группе А = 22.13\n",
    "- выборочное ARPU в группе В = 42.91\n",
    "- Нет оснований полагать, что истинные стандартные отклонения доходов с каждого пользователя в A и B равны. \n",
    "\n",
    "Если гипотеза H0 верна, тогда разность выборочных ARPU в А и В распределена нормально с истинным матожиданием равным нулю и неизвестным нам истинным стандартным отклонением(по ЦПТ при достаточно большом n выборки ее выборочное среднее распределено нормально). \n",
    "Исходя из этого мы можем найти t статистику и соответствующее p-value. Также дополнительно проводим U-тест\n",
    "\n",
    "В качестве уровня значимости альфа возьмем 0,05. \n",
    "\n"
   ]
  },
  {
   "cell_type": "code",
   "execution_count": 16,
   "metadata": {},
   "outputs": [
    {
     "name": "stdout",
     "output_type": "stream",
     "text": [
      "U-статистика: 2746687083.0 \t p-value: 0.0\n",
      "T-статистика: -29.894186199 \t p-value: 0.0\n"
     ]
    }
   ],
   "source": [
    "ARPU_A = ab_data.loc[ab_data.grp == 'A', 'price'].fillna(0)\n",
    "ARPU_B = ab_data.loc[ab_data.grp == 'B', 'price'].fillna(0)\n",
    "\n",
    "# alternative='less' потому что альтернативная гипотеза H1 звучит как \"разность ARPU А и В МЕНЬШЕ чем ноль\"\n",
    "u_arpu = stats.mannwhitneyu(ARPU_A, ARPU_B, alternative='less')\n",
    "\n",
    "# usevar='unequal' потому чтро нет оснований полагать, что истинные средние отклонения в А и В равны \n",
    "# alternative='smaller' потому что альтернативная гипотеза H1 звучит как \"разность ARPU А и В МЕНЬШЕ чем ноль\"\n",
    "t_arpu = weightstats.ttest_ind(ARPU_A, ARPU_B, usevar='unequal', alternative='smaller')\n",
    "\n",
    "print('U-статистика:', u_arpu[0], '\\t', 'p-value:', u_arpu[1].round(5))\n",
    "print('T-статистика:', t_arpu[0].round(9), '\\t', 'p-value:', t_arpu[1].round(5))"
   ]
  },
  {
   "cell_type": "markdown",
   "metadata": {},
   "source": [
    "<b>Вывод об ARPU</b>\\\n",
    "Оба теста показали очень маленькое p-value, гораздо меньшее чем 0.05, что говорит о том, что если бы истинные матожидания дохода с каждого пользователя в А и В были бы равны, то вероятность получить наши наблюдаемые выборочные ARPU была бы очень сильно мала, поэтому мы отвергаем нулевую гипотезу о равенстве ARPU в А и В и считаем, что ARPU в B действительно значимо больше чем в A."
   ]
  },
  {
   "cell_type": "markdown",
   "metadata": {},
   "source": [
    "#### <u>3) Доверительные интервалы</u><a id=\"ci\"></a>\n",
    "\n",
    "Интервал в котором «скорее всего» лежит истинное значение.\\\n",
    "(Например: с 95%-ной вероятностью в нашем интервале лежит реальное значение, и лишь в 5 % случаев мы ошибаемся).\n",
    "\n",
    "Показывает, насколько параметры из выборочной совокупности могут отличаться от реально существующих данных в генеральной совокупности. Насколько мы ошибаемся при формировании той или иной выборки, мы закладываем в так называемую ошибку репрезентативности, в ошибку средней и вокруг нее собственно и строим доверительный интервал.\n",
    "\n",
    "Уровень значимости связан с доверительным интервалом и отражает степень нашей уверенности, что истинное значение находится внутри данного доверительного интервала. Чем меньше уровень значимости, тем мы более уверены."
   ]
  },
  {
   "cell_type": "markdown",
   "metadata": {},
   "source": [
    "Посчитаем 95% доверительные интервалы для конверсии, ARPU и среднего чека. "
   ]
  },
  {
   "cell_type": "code",
   "execution_count": 17,
   "metadata": {},
   "outputs": [],
   "source": [
    "#Функции для получения доверительных интервалов\n",
    "\n",
    "# Считает доверительные интервалы для средних\n",
    "def get_conf_interval(data, conf_level = 0.95):  \n",
    "        buf = (stats.t.interval(conf_level, len(data),\n",
    "                             loc=np.mean(data), scale=stats.sem(data)))\n",
    "        # возвращаем предел погрешности\n",
    "        return float((buf[1] - buf[0])/2)\n",
    "    \n",
    "#Считает доверительные интервалы для бинарных величин\n",
    "def get_conf_interval_z(succ, tot):  \n",
    "    buf = proportion_confint(succ, tot)\n",
    "    # возвращаем предел погрешности\n",
    "    return buf[1] - buf[0]"
   ]
  },
  {
   "cell_type": "code",
   "execution_count": 111,
   "metadata": {},
   "outputs": [
    {
     "name": "stdout",
     "output_type": "stream",
     "text": [
      "Доверительные интервалы:\n",
      "Конверсия группы A: ± 0.003\n",
      "Конверсия группы A: ± 0.005\n",
      "Средний чек группы A: ± 10.32\n",
      "Средний чек группы A: ± 5.47\n",
      "ARPU группы A: ± 0.86\n",
      "ARPU группы B: ± 1.05\n"
     ]
    }
   ],
   "source": [
    "#Доверительные интервалы\n",
    "conf_conv_A = get_conf_interval_z(ab_data.loc[ab_data.grp == 'A', 'price'].dropna(axis=0).count(), \n",
    "                                            ab_data.loc[ab_data.grp == 'A', 'user_id'].count())\n",
    "conf_conv_B = get_conf_interval_z(ab_data.loc[ab_data.grp == 'B', 'price'].dropna(axis=0).count(), \n",
    "                                            ab_data.loc[ab_data.grp == 'B', 'user_id'].count())\n",
    "\n",
    "conf_bill_A = get_conf_interval(ab_data.loc[ab_data.grp == 'A', 'price'].dropna(axis=0))\n",
    "conf_bill_B = get_conf_interval(ab_data.loc[ab_data.grp == 'B', 'price'].dropna(axis=0))\n",
    "\n",
    "conf_ARPU_A = get_conf_interval(ab_data.loc[ab_data.grp == 'A', 'price'].fillna(0))\n",
    "conf_ARPU_B = get_conf_interval(ab_data.loc[ab_data.grp == 'B', 'price'].fillna(0))\n",
    "\n",
    "print('Доверительные интервалы:')\n",
    "print('Конверсия группы A:', f'± {conf_conv_A:.3f}')\n",
    "print('Конверсия группы A:', f'± {conf_conv_B:.3f}')                             \n",
    "print('Средний чек группы A:', f'± {conf_bill_A:.2f}')\n",
    "print('Средний чек группы A:', f'± {conf_bill_B:.2f}')\n",
    "print('ARPU группы A:', f'± {conf_ARPU_A:.2f}')\n",
    "print('ARPU группы B:', f'± {conf_ARPU_B:.2f}')"
   ]
  },
  {
   "cell_type": "markdown",
   "metadata": {},
   "source": [
    "#### <u>4) Отчёт</u><a id=\"sum\"></a>"
   ]
  },
  {
   "cell_type": "code",
   "execution_count": 110,
   "metadata": {},
   "outputs": [
    {
     "data": {
      "text/plain": [
       "[Text(0, 0, '0'), Text(0, 0, '1,592,693')]"
      ]
     },
     "execution_count": 110,
     "metadata": {},
     "output_type": "execute_result"
    },
    {
     "data": {
      "image/png": "[encoded data removed]",
      "text/plain": [
       "<Figure size 1200x600 with 7 Axes>"
      ]
     },
     "metadata": {},
     "output_type": "display_data"
    }
   ],
   "source": [
    "fig = plt.figure(tight_layout=True, figsize=[12, 6])\n",
    "\n",
    "ax1 = fig.add_subplot(2, 4, 1)  # Строки, столбцы, квадрант\n",
    "ax2 = fig.add_subplot(2, 4, 2)\n",
    "ax3 = fig.add_subplot(2, 4, 3)\n",
    "ax4 = fig.add_subplot(2, 4, 4)\n",
    "ax5 = fig.add_subplot(2, 4, 5)\n",
    "ax6 = fig.add_subplot(2, 4, 6)\n",
    "ax7 = fig.add_subplot(2, 4, 7)\n",
    "\n",
    "bar_container = ax1.bar(['A', 'B'], [ab_summary.users_count.A, ab_summary.users_count.B], color=['tab:red', 'tab:green'])\n",
    "ax1.set(title='Число пользователей', yticks=([]), ylim=[0, 83000])\n",
    "ax1.bar_label(bar_container, fmt='{:,.0f}')\n",
    "ax1.text(1, 5000, s=f'{ab_summary['UC, %']['B']}', color='white', horizontalalignment='center')\n",
    "\n",
    "bar_container = ax2.bar(['A', 'B'], [ab_summary.buyers_count.A, ab_summary.buyers_count.B], color=['tab:red', 'tab:green'])\n",
    "ax2.set(title='Число покупателей', yticks=([]), ylim=[0, 10200])\n",
    "ax2.bar_label(bar_container, fmt='{:,.0f}')\n",
    "ax2.text(1, 600, s=f'{ab_summary['BC, %']['B']}', color='white', horizontalalignment='center')\n",
    "\n",
    "bar_container = ax3.bar(['A', 'B'], [ab_summary.conversion.A, ab_summary.conversion.B], color=['tab:red', 'tab:green'])\n",
    "ax3.set(title='Конверсия', yticks=([]), ylim=[0, 0.14])\n",
    "ax3.bar_label(bar_container, fmt='{:.2f}')\n",
    "ax3.text(1, 0.006, s=f'{ab_summary['C, %']['B']}', color='white', horizontalalignment='center')\n",
    "\n",
    "bar_container = ax4.bar(['A', 'B'], [ab_summary.avg_bill.A, ab_summary.avg_bill.B], color=['tab:red', 'tab:green'])\n",
    "ax4.set(title='Средний чек', yticks=([]), ylim=[0, 430])\n",
    "ax4.bar_label(bar_container, fmt='{:,.0f}')\n",
    "ax4.text(1, 18, s=f'{ab_summary['AB, %']['B']}', color='white', horizontalalignment='center')\n",
    "\n",
    "bar_container = ax5.bar(['A', 'B'], [ab_summary.revenue.A, ab_summary.revenue.B], color=['tab:red', 'tab:green'])\n",
    "ax5.set(title='Выручка', yticks=([]), ylim=[0, 3600000])\n",
    "ax5.bar_label(bar_container, fmt='{:,.0f}')\n",
    "ax5.text(1, 200000, s=f'{ab_summary['R, %']['B']}', color='white', horizontalalignment='center')\n",
    "\n",
    "bar_container = ax6.bar(['A', 'B'], [ab_summary.ARPU.A, ab_summary.ARPU.B], color=['tab:red', 'tab:green'])\n",
    "ax6.set(title='ARPU', yticks=([]), ylim=[0, 47])\n",
    "ax6.bar_label(bar_container, fmt='{:,.0f}')\n",
    "ax6.text(1, 3, s=f'{ab_summary['A, %']['B']}', color='white', horizontalalignment='center')\n",
    "\n",
    "bar_container = ax7.bar(['A', 'B'], [0, ab_summary.add_rev.B], color=['tab:red', 'tab:green'])\n",
    "ax7.set(title='Доп. выручка', yticks=([]), ylim=[0, 1750000])\n",
    "ax7.bar_label(bar_container, fmt='{:,.0f}')"
   ]
  },
  {
   "cell_type": "markdown",
   "metadata": {},
   "source": [
    "#### <u>5) Выводы</u><a id=\"fin\"></a>\n",
    "\n",
    "1. Тест значимо увеличил ARPU на 94%\n",
    "2. Тест значимо уменьшил средний чек на 13,6%\n",
    "3. Тест значимо увеличил конверсию на 120%\n",
    "4. Дополнительная выручка составила 1,59 млн.руб.\\\n",
    "\\\n",
    "<b>Таким образом, скидки способствуют мгновенному увеличению выручки, поэтому их можно проводить время от времени.</b>"
   ]
  },
  {
   "cell_type": "markdown",
   "metadata": {},
   "source": []
  }
 ],
 "metadata": {
  "kernelspec": {
   "display_name": "Python 3",
   "language": "python",
   "name": "python3"
  },
  "language_info": {
   "codemirror_mode": {
    "name": "ipython",
    "version": 3
   },
   "file_extension": ".py",
   "mimetype": "text/x-python",
   "name": "python",
   "nbconvert_exporter": "python",
   "pygments_lexer": "ipython3",
   "version": "3.12.5"
  },
  "vscode": {
   "interpreter": {
    "hash": "62cc3abeb7f1d2984e810556ce97b5d2ff1f12a372078cf9f99d94a92f3dd9bc"
   }
  }
 },
 "nbformat": 4,
 "nbformat_minor": 2
}
